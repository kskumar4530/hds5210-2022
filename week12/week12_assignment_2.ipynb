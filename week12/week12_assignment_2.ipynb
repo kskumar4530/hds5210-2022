{
 "cells": [
  {
   "cell_type": "markdown",
   "metadata": {
    "nbgrader": {
     "grade": false,
     "grade_id": "intro",
     "locked": true,
     "schema_version": 1,
     "solution": false
    }
   },
   "source": [
    "# Week 12 Assignment\n",
    "\n",
    "# PART 1 - Pivoting Data for Fun!\n",
    "\n",
    "In this exercise, we're going to work with data about condemned buildings in St. Louis.  This data set is in `/data/condemn.txt` in CSV format."
   ]
  },
  {
   "cell_type": "markdown",
   "metadata": {
    "nbgrader": {
     "grade": false,
     "grade_id": "q1-intro",
     "locked": true,
     "schema_version": 1,
     "solution": false
    }
   },
   "source": [
    "## STEP 1: Load and Filter data\n",
    "\n",
    "For this analysis, we want to look only at a relevent range of years and only years that are in teh past.  So, let's first take a look at the data between 1986 and 2014 (inclusive of those dates).\n",
    "\n",
    "At the end of this step, you should have a data frame loaded from the condemnations file and filtered down to only the data between 1986 and 2014.  Put that into a dataframe named `condemnations`\n",
    "\n",
    "**Some helpful notes:**\n",
    "* Use the columns `InspectDate` to filter this date range"
   ]
  },
  {
   "cell_type": "code",
   "execution_count": 1,
   "metadata": {
    "nbgrader": {
     "grade": false,
     "grade_id": "q1-solution",
     "locked": false,
     "schema_version": 1,
     "solution": true
    }
   },
   "outputs": [
    {
     "name": "stderr",
     "output_type": "stream",
     "text": [
      "/opt/tljh/user/lib/python3.6/site-packages/IPython/core/interactiveshell.py:3051: DtypeWarning: Columns (2,8,35,36) have mixed types.Specify dtype option on import or set low_memory=False.\n",
      "  interactivity=interactivity, compiler=compiler, result=result)\n"
     ]
    }
   ],
   "source": [
    "%matplotlib inline\n",
    "import pandas as pd\n",
    "from datetime import datetime\n",
    "\n",
    "condemnations = pd.read_csv('/data/condemn.txt')\n",
    "condemnations.shape\n",
    "condemnations[\"FirstDate\"] = condemnations[\"FirstDate\"].apply(lambda x: pd.to_datetime(x))\n",
    "condemnations[\"LastDate\"] = condemnations[\"LastDate\"].apply(lambda x: pd.to_datetime(x))\n",
    "condemnations[\"InspectDate\"] = condemnations[\"InspectDate\"].apply(lambda x: pd.to_datetime(x))\n"
   ]
  },
  {
   "cell_type": "code",
   "execution_count": 2,
   "metadata": {},
   "outputs": [],
   "source": [
    "cond = condemnations[\"InspectDate\"].dt.year.between(1986, 2014, inclusive=True)\n",
    "condemnations = condemnations.loc[cond]"
   ]
  },
  {
   "cell_type": "code",
   "execution_count": null,
   "metadata": {},
   "outputs": [],
   "source": []
  },
  {
   "cell_type": "code",
   "execution_count": 3,
   "metadata": {
    "nbgrader": {
     "grade": true,
     "grade_id": "q1-tests",
     "locked": true,
     "points": 6,
     "schema_version": 1,
     "solution": false
    }
   },
   "outputs": [],
   "source": [
    "assert(condemnations.shape == (30232, 40))\n",
    "assert(len(condemnations[condemnations['InspectDate'] < '1986'])==0)\n",
    "assert(len(condemnations[condemnations['InspectDate'] >= '2015'])==0)"
   ]
  },
  {
   "cell_type": "markdown",
   "metadata": {
    "nbgrader": {
     "grade": false,
     "grade_id": "q2-intro",
     "locked": true,
     "schema_version": 1,
     "solution": false
    }
   },
   "source": [
    "## STEP 2: Pivot and Summarize\n",
    "\n",
    "In this step we want to pivot our data so that we have one row per year, a column for each value that appears in the `Status` column, and a count of how many condemnations occurred of each type in each year.  Put your summary pivot table into a variable called `by_year`.\n",
    "\n",
    "**Some helpful notes:**\n",
    "* For some reason, Pandas is just kind of stubborn about count being the aggregate function.  You may need to tell it to `np.ma.count` specifically.  I've imported Numpy as np for you."
   ]
  },
  {
   "cell_type": "code",
   "execution_count": 4,
   "metadata": {},
   "outputs": [],
   "source": [
    "import numpy as np\n",
    "condemnations[\"InspectYear\"] = condemnations[\"InspectDate\"].dt.year"
   ]
  },
  {
   "cell_type": "code",
   "execution_count": 5,
   "metadata": {},
   "outputs": [
    {
     "data": {
      "text/plain": [
       "Series([], dtype: int64)"
      ]
     },
     "execution_count": 5,
     "metadata": {},
     "output_type": "execute_result"
    }
   ],
   "source": [
    "condemnations.value_counts()"
   ]
  },
  {
   "cell_type": "code",
   "execution_count": 6,
   "metadata": {},
   "outputs": [
    {
     "data": {
      "text/html": [
       "<div>\n",
       "<style scoped>\n",
       "    .dataframe tbody tr th:only-of-type {\n",
       "        vertical-align: middle;\n",
       "    }\n",
       "\n",
       "    .dataframe tbody tr th {\n",
       "        vertical-align: top;\n",
       "    }\n",
       "\n",
       "    .dataframe thead th {\n",
       "        text-align: right;\n",
       "    }\n",
       "</style>\n",
       "<table border=\"1\" class=\"dataframe\">\n",
       "  <thead>\n",
       "    <tr style=\"text-align: right;\">\n",
       "      <th>Status</th>\n",
       "      <th>B</th>\n",
       "      <th>L</th>\n",
       "      <th>R</th>\n",
       "      <th>W</th>\n",
       "    </tr>\n",
       "    <tr>\n",
       "      <th>InspectYear</th>\n",
       "      <th></th>\n",
       "      <th></th>\n",
       "      <th></th>\n",
       "      <th></th>\n",
       "    </tr>\n",
       "  </thead>\n",
       "  <tbody>\n",
       "    <tr>\n",
       "      <th>1986</th>\n",
       "      <td>22.0</td>\n",
       "      <td>12.0</td>\n",
       "      <td>19.0</td>\n",
       "      <td>112.0</td>\n",
       "    </tr>\n",
       "    <tr>\n",
       "      <th>1987</th>\n",
       "      <td>91.0</td>\n",
       "      <td>20.0</td>\n",
       "      <td>8.0</td>\n",
       "      <td>361.0</td>\n",
       "    </tr>\n",
       "    <tr>\n",
       "      <th>1988</th>\n",
       "      <td>215.0</td>\n",
       "      <td>16.0</td>\n",
       "      <td>15.0</td>\n",
       "      <td>297.0</td>\n",
       "    </tr>\n",
       "    <tr>\n",
       "      <th>1989</th>\n",
       "      <td>277.0</td>\n",
       "      <td>15.0</td>\n",
       "      <td>11.0</td>\n",
       "      <td>432.0</td>\n",
       "    </tr>\n",
       "    <tr>\n",
       "      <th>1990</th>\n",
       "      <td>119.0</td>\n",
       "      <td>29.0</td>\n",
       "      <td>8.0</td>\n",
       "      <td>322.0</td>\n",
       "    </tr>\n",
       "    <tr>\n",
       "      <th>1991</th>\n",
       "      <td>139.0</td>\n",
       "      <td>18.0</td>\n",
       "      <td>4.0</td>\n",
       "      <td>351.0</td>\n",
       "    </tr>\n",
       "    <tr>\n",
       "      <th>1992</th>\n",
       "      <td>204.0</td>\n",
       "      <td>30.0</td>\n",
       "      <td>4.0</td>\n",
       "      <td>258.0</td>\n",
       "    </tr>\n",
       "    <tr>\n",
       "      <th>1993</th>\n",
       "      <td>185.0</td>\n",
       "      <td>47.0</td>\n",
       "      <td>2.0</td>\n",
       "      <td>193.0</td>\n",
       "    </tr>\n",
       "    <tr>\n",
       "      <th>1994</th>\n",
       "      <td>208.0</td>\n",
       "      <td>94.0</td>\n",
       "      <td>5.0</td>\n",
       "      <td>293.0</td>\n",
       "    </tr>\n",
       "    <tr>\n",
       "      <th>1995</th>\n",
       "      <td>176.0</td>\n",
       "      <td>127.0</td>\n",
       "      <td>NaN</td>\n",
       "      <td>268.0</td>\n",
       "    </tr>\n",
       "    <tr>\n",
       "      <th>1996</th>\n",
       "      <td>214.0</td>\n",
       "      <td>171.0</td>\n",
       "      <td>NaN</td>\n",
       "      <td>794.0</td>\n",
       "    </tr>\n",
       "    <tr>\n",
       "      <th>1997</th>\n",
       "      <td>281.0</td>\n",
       "      <td>328.0</td>\n",
       "      <td>NaN</td>\n",
       "      <td>878.0</td>\n",
       "    </tr>\n",
       "    <tr>\n",
       "      <th>1998</th>\n",
       "      <td>254.0</td>\n",
       "      <td>343.0</td>\n",
       "      <td>NaN</td>\n",
       "      <td>599.0</td>\n",
       "    </tr>\n",
       "    <tr>\n",
       "      <th>1999</th>\n",
       "      <td>272.0</td>\n",
       "      <td>283.0</td>\n",
       "      <td>NaN</td>\n",
       "      <td>826.0</td>\n",
       "    </tr>\n",
       "    <tr>\n",
       "      <th>2000</th>\n",
       "      <td>320.0</td>\n",
       "      <td>268.0</td>\n",
       "      <td>NaN</td>\n",
       "      <td>529.0</td>\n",
       "    </tr>\n",
       "    <tr>\n",
       "      <th>2001</th>\n",
       "      <td>381.0</td>\n",
       "      <td>262.0</td>\n",
       "      <td>NaN</td>\n",
       "      <td>296.0</td>\n",
       "    </tr>\n",
       "    <tr>\n",
       "      <th>2002</th>\n",
       "      <td>383.0</td>\n",
       "      <td>227.0</td>\n",
       "      <td>NaN</td>\n",
       "      <td>317.0</td>\n",
       "    </tr>\n",
       "    <tr>\n",
       "      <th>2003</th>\n",
       "      <td>361.0</td>\n",
       "      <td>201.0</td>\n",
       "      <td>NaN</td>\n",
       "      <td>282.0</td>\n",
       "    </tr>\n",
       "    <tr>\n",
       "      <th>2004</th>\n",
       "      <td>354.0</td>\n",
       "      <td>204.0</td>\n",
       "      <td>NaN</td>\n",
       "      <td>381.0</td>\n",
       "    </tr>\n",
       "    <tr>\n",
       "      <th>2005</th>\n",
       "      <td>410.0</td>\n",
       "      <td>237.0</td>\n",
       "      <td>NaN</td>\n",
       "      <td>345.0</td>\n",
       "    </tr>\n",
       "    <tr>\n",
       "      <th>2006</th>\n",
       "      <td>479.0</td>\n",
       "      <td>233.0</td>\n",
       "      <td>20.0</td>\n",
       "      <td>370.0</td>\n",
       "    </tr>\n",
       "    <tr>\n",
       "      <th>2007</th>\n",
       "      <td>613.0</td>\n",
       "      <td>262.0</td>\n",
       "      <td>NaN</td>\n",
       "      <td>341.0</td>\n",
       "    </tr>\n",
       "    <tr>\n",
       "      <th>2008</th>\n",
       "      <td>700.0</td>\n",
       "      <td>254.0</td>\n",
       "      <td>NaN</td>\n",
       "      <td>334.0</td>\n",
       "    </tr>\n",
       "    <tr>\n",
       "      <th>2009</th>\n",
       "      <td>785.0</td>\n",
       "      <td>223.0</td>\n",
       "      <td>NaN</td>\n",
       "      <td>200.0</td>\n",
       "    </tr>\n",
       "    <tr>\n",
       "      <th>2010</th>\n",
       "      <td>1161.0</td>\n",
       "      <td>193.0</td>\n",
       "      <td>NaN</td>\n",
       "      <td>154.0</td>\n",
       "    </tr>\n",
       "    <tr>\n",
       "      <th>2011</th>\n",
       "      <td>1028.0</td>\n",
       "      <td>275.0</td>\n",
       "      <td>NaN</td>\n",
       "      <td>107.0</td>\n",
       "    </tr>\n",
       "    <tr>\n",
       "      <th>2012</th>\n",
       "      <td>738.0</td>\n",
       "      <td>257.0</td>\n",
       "      <td>1.0</td>\n",
       "      <td>28.0</td>\n",
       "    </tr>\n",
       "    <tr>\n",
       "      <th>2013</th>\n",
       "      <td>185.0</td>\n",
       "      <td>209.0</td>\n",
       "      <td>1.0</td>\n",
       "      <td>2.0</td>\n",
       "    </tr>\n",
       "    <tr>\n",
       "      <th>2014</th>\n",
       "      <td>17.0</td>\n",
       "      <td>128.0</td>\n",
       "      <td>NaN</td>\n",
       "      <td>NaN</td>\n",
       "    </tr>\n",
       "  </tbody>\n",
       "</table>\n",
       "</div>"
      ],
      "text/plain": [
       "Status            B      L     R      W\n",
       "InspectYear                            \n",
       "1986           22.0   12.0  19.0  112.0\n",
       "1987           91.0   20.0   8.0  361.0\n",
       "1988          215.0   16.0  15.0  297.0\n",
       "1989          277.0   15.0  11.0  432.0\n",
       "1990          119.0   29.0   8.0  322.0\n",
       "1991          139.0   18.0   4.0  351.0\n",
       "1992          204.0   30.0   4.0  258.0\n",
       "1993          185.0   47.0   2.0  193.0\n",
       "1994          208.0   94.0   5.0  293.0\n",
       "1995          176.0  127.0   NaN  268.0\n",
       "1996          214.0  171.0   NaN  794.0\n",
       "1997          281.0  328.0   NaN  878.0\n",
       "1998          254.0  343.0   NaN  599.0\n",
       "1999          272.0  283.0   NaN  826.0\n",
       "2000          320.0  268.0   NaN  529.0\n",
       "2001          381.0  262.0   NaN  296.0\n",
       "2002          383.0  227.0   NaN  317.0\n",
       "2003          361.0  201.0   NaN  282.0\n",
       "2004          354.0  204.0   NaN  381.0\n",
       "2005          410.0  237.0   NaN  345.0\n",
       "2006          479.0  233.0  20.0  370.0\n",
       "2007          613.0  262.0   NaN  341.0\n",
       "2008          700.0  254.0   NaN  334.0\n",
       "2009          785.0  223.0   NaN  200.0\n",
       "2010         1161.0  193.0   NaN  154.0\n",
       "2011         1028.0  275.0   NaN  107.0\n",
       "2012          738.0  257.0   1.0   28.0\n",
       "2013          185.0  209.0   1.0    2.0\n",
       "2014           17.0  128.0   NaN    NaN"
      ]
     },
     "execution_count": 6,
     "metadata": {},
     "output_type": "execute_result"
    }
   ],
   "source": [
    "by_year = condemnations.pivot_table(columns='Status', index=\"InspectYear\", values='AcctNum', aggfunc=np.ma.count)\n",
    "by_year"
   ]
  },
  {
   "cell_type": "code",
   "execution_count": 7,
   "metadata": {
    "nbgrader": {
     "grade": true,
     "grade_id": "q2-tests",
     "locked": true,
     "points": 6,
     "schema_version": 1,
     "solution": false
    }
   },
   "outputs": [],
   "source": [
    "assert(by_year.shape == (29, 4))\n",
    "assert(list(by_year.columns) == ['B', 'L', 'R', 'W'])\n",
    "assert(list(by_year.sum()) == [10572, 4966, 98, 9670])"
   ]
  },
  {
   "cell_type": "markdown",
   "metadata": {
    "nbgrader": {
     "grade": false,
     "grade_id": "q3-intro",
     "locked": true,
     "schema_version": 1,
     "solution": false
    }
   },
   "source": [
    "## STEP 3: Plot and see what you see\n",
    "\n",
    "Use Pandas built-in plotting capabilities to visualize this information in way that you think makes sense.  It might be that plotting a simple multi-series line chart would give you some insights.  Show your plot in the cell below, then use the text cell below that to write a few sentences about what you see.\n"
   ]
  },
  {
   "cell_type": "code",
   "execution_count": 8,
   "metadata": {
    "nbgrader": {
     "grade": true,
     "grade_id": "q3-manual",
     "locked": false,
     "points": 5,
     "schema_version": 1,
     "solution": true
    }
   },
   "outputs": [
    {
     "data": {
      "text/plain": [
       "<matplotlib.axes._subplots.AxesSubplot at 0x7fb2b699db00>"
      ]
     },
     "execution_count": 8,
     "metadata": {},
     "output_type": "execute_result"
    },
    {
     "data": {
      "image/png": "[encoded data removed]",
      "text/plain": [
       "<Figure size 432x288 with 1 Axes>"
      ]
     },
     "metadata": {
      "needs_background": "light"
     },
     "output_type": "display_data"
    }
   ],
   "source": [
    "%matplotlib inline\n",
    "by_year.plot()"
   ]
  },
  {
   "cell_type": "markdown",
   "metadata": {},
   "source": [
    "---"
   ]
  },
  {
   "cell_type": "code",
   "execution_count": null,
   "metadata": {},
   "outputs": [],
   "source": []
  },
  {
   "cell_type": "code",
   "execution_count": null,
   "metadata": {},
   "outputs": [],
   "source": []
  },
  {
   "cell_type": "markdown",
   "metadata": {},
   "source": [
    "# PART 2 - Video Conference Usage\n",
    "\n",
    "In this next part of the assignment, we'll be looking at how video conference usage changed during the beginning of COVID-19.  This real data.  Please don't judge anyone based on the information here.  ;)  The data is in the `/data/meetings.csv` file.\n",
    "\n",
    "For the assignment, I want you to compare (by person) the number of meetings hosted by each user for the last two weeks of February and the last two weeks of March.  This might be a little complicated to think through HOW to do that, so the steps below are one approach.\n",
    "\n",
    "1. Create a new column called startDate that contains just the day part of the startTime column in the data.  You can do that using datetime functions if you want, but you'll notice that the date in this file is a string formatted YYYY-MM-DD-HH:mm:ss, so it's probably easier just to pull out the first 10 characters of the string instead.  `meetings['startTime'].str[0:10]`\n",
    "2. Create another new column.  This one should contain a label like \"BEFORE\" for the week 2/17 - 2/28 and \"DURING\" for the week of 3/16 - 3/27.  A hand tip on this is that you can set values for some rows in a data frame using `meetings.loc[row_filter,'Column Name'] = 'Value'` if you've created a `row_filter` as we discussed in prior weeks.\n",
    "3. From here, using `pivot_table()` is one good way to summarize the information.\n",
    "\n",
    "**FINAL RESULT**\n",
    "\n",
    "For a final result, I'd like you to produce a data frame named **summary** that contains:\n",
    "* One ROW for each userName.  The userName can either be the row index or a column in the data frame.\n",
    "* One COLUMN for the \"BEFORE\" week and one COLUMN for the \"DURING\" week.  Name those columns 'Before' and 'During'.\n",
    "* One more calculated column that shows the percent increase from BEFORE to DURING.  Name that column 'pctChange'.\n"
   ]
  },
  {
   "cell_type": "code",
   "execution_count": 9,
   "metadata": {},
   "outputs": [],
   "source": [
    "import pandas as pd\n",
    "meetings = pd.read_csv(\"/data/meetings.csv\")"
   ]
  },
  {
   "cell_type": "code",
   "execution_count": 10,
   "metadata": {},
   "outputs": [
    {
     "data": {
      "text/html": [
       "<div>\n",
       "<style scoped>\n",
       "    .dataframe tbody tr th:only-of-type {\n",
       "        vertical-align: middle;\n",
       "    }\n",
       "\n",
       "    .dataframe tbody tr th {\n",
       "        vertical-align: top;\n",
       "    }\n",
       "\n",
       "    .dataframe thead th {\n",
       "        text-align: right;\n",
       "    }\n",
       "</style>\n",
       "<table border=\"1\" class=\"dataframe\">\n",
       "  <thead>\n",
       "    <tr style=\"text-align: right;\">\n",
       "      <th></th>\n",
       "      <th>meeting_uuid</th>\n",
       "      <th>meetingTitle</th>\n",
       "      <th>meetingId</th>\n",
       "      <th>userName</th>\n",
       "      <th>user_id</th>\n",
       "      <th>user_tags</th>\n",
       "      <th>endTime</th>\n",
       "      <th>startTime</th>\n",
       "      <th>email</th>\n",
       "      <th>participantSeconds</th>\n",
       "      <th>...</th>\n",
       "      <th>meetingDurationMinutes</th>\n",
       "      <th>popId</th>\n",
       "      <th>userType</th>\n",
       "      <th>billable</th>\n",
       "      <th>moderatorLess</th>\n",
       "      <th>start_time</th>\n",
       "      <th>total_highlights_created</th>\n",
       "      <th>smart_meeting</th>\n",
       "      <th>transcription_used</th>\n",
       "      <th>total_transcription_duration_minutes</th>\n",
       "    </tr>\n",
       "  </thead>\n",
       "  <tbody>\n",
       "    <tr>\n",
       "      <th>0</th>\n",
       "      <td>418897-3b9f0feb-f8f4-4ae7-9464-eb983c30af60</td>\n",
       "      <td>Review Payer Websites</td>\n",
       "      <td>681568231</td>\n",
       "      <td>chris.rogers.amitechsolutions</td>\n",
       "      <td>3180644</td>\n",
       "      <td>NaN</td>\n",
       "      <td>2020-03-31 22:21:35</td>\n",
       "      <td>2020-03-31 21:00:22</td>\n",
       "      <td>chris.rogers@amitechsolutions.com</td>\n",
       "      <td>19386</td>\n",
       "      <td>...</td>\n",
       "      <td>81.2167</td>\n",
       "      <td>26</td>\n",
       "      <td>ENTERPRISE_PAID</td>\n",
       "      <td>True</td>\n",
       "      <td>True</td>\n",
       "      <td>2020-03-31 21:00:22.0</td>\n",
       "      <td>NaN</td>\n",
       "      <td>NaN</td>\n",
       "      <td>NaN</td>\n",
       "      <td>NaN</td>\n",
       "    </tr>\n",
       "    <tr>\n",
       "      <th>1</th>\n",
       "      <td>418897-14587f14-faf0-4879-9756-fe335357b413</td>\n",
       "      <td>Drew's Meeting</td>\n",
       "      <td>258719784</td>\n",
       "      <td>Drew.Marco</td>\n",
       "      <td>2717893</td>\n",
       "      <td>NaN</td>\n",
       "      <td>2020-03-31 21:30:37</td>\n",
       "      <td>2020-03-31 20:58:41</td>\n",
       "      <td>Drew.Marco@AmitechSolutions.com</td>\n",
       "      <td>7242</td>\n",
       "      <td>...</td>\n",
       "      <td>31.9333</td>\n",
       "      <td>25</td>\n",
       "      <td>ENTERPRISE_PAID</td>\n",
       "      <td>True</td>\n",
       "      <td>True</td>\n",
       "      <td>2020-03-31 20:58:41.0</td>\n",
       "      <td>NaN</td>\n",
       "      <td>NaN</td>\n",
       "      <td>NaN</td>\n",
       "      <td>NaN</td>\n",
       "    </tr>\n",
       "    <tr>\n",
       "      <th>2</th>\n",
       "      <td>418897-aa82b3f0-e3df-456a-80d5-daef7902c232</td>\n",
       "      <td>St. Luke's Project Discussion</td>\n",
       "      <td>415828450</td>\n",
       "      <td>eric.keeney</td>\n",
       "      <td>2692908</td>\n",
       "      <td>NaN</td>\n",
       "      <td>2020-03-31 22:48:43</td>\n",
       "      <td>2020-03-31 20:57:51</td>\n",
       "      <td>eric.keeney@amitechsolutions.com</td>\n",
       "      <td>38469</td>\n",
       "      <td>...</td>\n",
       "      <td>110.8667</td>\n",
       "      <td>25</td>\n",
       "      <td>ENTERPRISE_PAID</td>\n",
       "      <td>True</td>\n",
       "      <td>True</td>\n",
       "      <td>2020-03-31 20:57:51.0</td>\n",
       "      <td>NaN</td>\n",
       "      <td>NaN</td>\n",
       "      <td>NaN</td>\n",
       "      <td>NaN</td>\n",
       "    </tr>\n",
       "    <tr>\n",
       "      <th>3</th>\n",
       "      <td>418867-f5fadea7-75f8-4860-9a1e-090805ff6346</td>\n",
       "      <td>Amit's Meeting</td>\n",
       "      <td>275007771</td>\n",
       "      <td>amit.bhagat</td>\n",
       "      <td>2756615</td>\n",
       "      <td>NaN</td>\n",
       "      <td>2020-03-31 21:02:28</td>\n",
       "      <td>2020-03-31 20:34:43</td>\n",
       "      <td>amit.bhagat@amitechsolutions.com</td>\n",
       "      <td>6394</td>\n",
       "      <td>...</td>\n",
       "      <td>27.7500</td>\n",
       "      <td>110</td>\n",
       "      <td>ENTERPRISE_PAID</td>\n",
       "      <td>True</td>\n",
       "      <td>True</td>\n",
       "      <td>2020-03-31 20:34:43.0</td>\n",
       "      <td>NaN</td>\n",
       "      <td>NaN</td>\n",
       "      <td>NaN</td>\n",
       "      <td>NaN</td>\n",
       "    </tr>\n",
       "    <tr>\n",
       "      <th>4</th>\n",
       "      <td>418894-3a911019-1a97-4058-8bd4-035245c73bda</td>\n",
       "      <td>Andrea's Meeting</td>\n",
       "      <td>791412043</td>\n",
       "      <td>andrea.bryant.amitechsolutions</td>\n",
       "      <td>2673353</td>\n",
       "      <td>NaN</td>\n",
       "      <td>2020-03-31 20:49:46</td>\n",
       "      <td>2020-03-31 20:30:02</td>\n",
       "      <td>hr-dept@amitechsolutions.com</td>\n",
       "      <td>3363</td>\n",
       "      <td>...</td>\n",
       "      <td>19.7333</td>\n",
       "      <td>25</td>\n",
       "      <td>ENTERPRISE_PAID</td>\n",
       "      <td>True</td>\n",
       "      <td>True</td>\n",
       "      <td>2020-03-31 20:30:02.0</td>\n",
       "      <td>NaN</td>\n",
       "      <td>NaN</td>\n",
       "      <td>NaN</td>\n",
       "      <td>NaN</td>\n",
       "    </tr>\n",
       "  </tbody>\n",
       "</table>\n",
       "<p>5 rows × 25 columns</p>\n",
       "</div>"
      ],
      "text/plain": [
       "                                  meeting_uuid                   meetingTitle  \\\n",
       "0  418897-3b9f0feb-f8f4-4ae7-9464-eb983c30af60          Review Payer Websites   \n",
       "1  418897-14587f14-faf0-4879-9756-fe335357b413                 Drew's Meeting   \n",
       "2  418897-aa82b3f0-e3df-456a-80d5-daef7902c232  St. Luke's Project Discussion   \n",
       "3  418867-f5fadea7-75f8-4860-9a1e-090805ff6346                 Amit's Meeting   \n",
       "4  418894-3a911019-1a97-4058-8bd4-035245c73bda               Andrea's Meeting   \n",
       "\n",
       "   meetingId                        userName  user_id  user_tags  \\\n",
       "0  681568231   chris.rogers.amitechsolutions  3180644        NaN   \n",
       "1  258719784                      Drew.Marco  2717893        NaN   \n",
       "2  415828450                     eric.keeney  2692908        NaN   \n",
       "3  275007771                     amit.bhagat  2756615        NaN   \n",
       "4  791412043  andrea.bryant.amitechsolutions  2673353        NaN   \n",
       "\n",
       "               endTime            startTime  \\\n",
       "0  2020-03-31 22:21:35  2020-03-31 21:00:22   \n",
       "1  2020-03-31 21:30:37  2020-03-31 20:58:41   \n",
       "2  2020-03-31 22:48:43  2020-03-31 20:57:51   \n",
       "3  2020-03-31 21:02:28  2020-03-31 20:34:43   \n",
       "4  2020-03-31 20:49:46  2020-03-31 20:30:02   \n",
       "\n",
       "                               email  participantSeconds  ...  \\\n",
       "0  chris.rogers@amitechsolutions.com               19386  ...   \n",
       "1    Drew.Marco@AmitechSolutions.com                7242  ...   \n",
       "2   eric.keeney@amitechsolutions.com               38469  ...   \n",
       "3   amit.bhagat@amitechsolutions.com                6394  ...   \n",
       "4       hr-dept@amitechsolutions.com                3363  ...   \n",
       "\n",
       "  meetingDurationMinutes popId         userType  billable  moderatorLess  \\\n",
       "0                81.2167    26  ENTERPRISE_PAID      True           True   \n",
       "1                31.9333    25  ENTERPRISE_PAID      True           True   \n",
       "2               110.8667    25  ENTERPRISE_PAID      True           True   \n",
       "3                27.7500   110  ENTERPRISE_PAID      True           True   \n",
       "4                19.7333    25  ENTERPRISE_PAID      True           True   \n",
       "\n",
       "              start_time  total_highlights_created smart_meeting  \\\n",
       "0  2020-03-31 21:00:22.0                       NaN           NaN   \n",
       "1  2020-03-31 20:58:41.0                       NaN           NaN   \n",
       "2  2020-03-31 20:57:51.0                       NaN           NaN   \n",
       "3  2020-03-31 20:34:43.0                       NaN           NaN   \n",
       "4  2020-03-31 20:30:02.0                       NaN           NaN   \n",
       "\n",
       "   transcription_used  total_transcription_duration_minutes  \n",
       "0                 NaN                                   NaN  \n",
       "1                 NaN                                   NaN  \n",
       "2                 NaN                                   NaN  \n",
       "3                 NaN                                   NaN  \n",
       "4                 NaN                                   NaN  \n",
       "\n",
       "[5 rows x 25 columns]"
      ]
     },
     "execution_count": 10,
     "metadata": {},
     "output_type": "execute_result"
    }
   ],
   "source": [
    "meetings.head(5)"
   ]
  },
  {
   "cell_type": "code",
   "execution_count": 11,
   "metadata": {},
   "outputs": [],
   "source": [
    "meetings[\"startdate\"] = meetings[\"start_time\"].str[0:10]"
   ]
  },
  {
   "cell_type": "code",
   "execution_count": 12,
   "metadata": {},
   "outputs": [],
   "source": [
    "def getCellName(presentdate):\n",
    "    if int(presentdate[8] + presentdate[9]) >= 17 and int(presentdate[8] + presentdate[9]) <= 28:\n",
    "        if int(presentdate[5] + presentdate[6]) == 2:\n",
    "            return \"BEFORE\"\n",
    "    if int(presentdate[8] + presentdate[9]) >= 16 and int(presentdate[8] + presentdate[9]) <= 27:\n",
    "            if int(presentdate[5] + presentdate[6]) == 3:\n",
    "                return \"DURING\""
   ]
  },
  {
   "cell_type": "code",
   "execution_count": 13,
   "metadata": {},
   "outputs": [],
   "source": [
    "meetings['BeforeAndDuring'] = meetings['startdate'].apply(getCellName)"
   ]
  },
  {
   "cell_type": "code",
   "execution_count": 14,
   "metadata": {},
   "outputs": [],
   "source": [
    "meetings = meetings.loc[((meetings.BeforeAndDuring != \"BEFORE\") & (meetings.BeforeAndDuring != \"DURING\")) == False]"
   ]
  },
  {
   "cell_type": "code",
   "execution_count": 15,
   "metadata": {},
   "outputs": [],
   "source": [
    "summary = meetings.pivot_table(index = 'userName', columns = 'BeforeAndDuring', aggfunc = 'size')\n",
    "summary = summary.reset_index()"
   ]
  },
  {
   "cell_type": "code",
   "execution_count": 16,
   "metadata": {},
   "outputs": [],
   "source": [
    "summary['DURING'] = summary['DURING'].fillna(0)"
   ]
  },
  {
   "cell_type": "code",
   "execution_count": 17,
   "metadata": {},
   "outputs": [],
   "source": [
    "summary['pctChange'] = (summary['DURING'] - summary['BEFORE']) / summary['BEFORE']"
   ]
  },
  {
   "cell_type": "code",
   "execution_count": 18,
   "metadata": {},
   "outputs": [],
   "source": [
    "assert(len(summary) == 22)"
   ]
  },
  {
   "cell_type": "code",
   "execution_count": 19,
   "metadata": {},
   "outputs": [],
   "source": [
    "assert(summary['pctChange'].mean().round(2) == 0.92)"
   ]
  },
  {
   "cell_type": "code",
   "execution_count": null,
   "metadata": {},
   "outputs": [],
   "source": []
  },
  {
   "cell_type": "markdown",
   "metadata": {},
   "source": [
    "\n",
    "\n",
    "---\n",
    "\n",
    "\n",
    "\n",
    "## Submitting Your Work\n",
    "\n",
    "Submit as usual\n"
   ]
  }
 ],
 "metadata": {
  "celltoolbar": "Create Assignment",
  "kernelspec": {
   "display_name": "Python 3",
   "language": "python",
   "name": "python3"
  },
  "language_info": {
   "codemirror_mode": {
    "name": "ipython",
    "version": 3
   },
   "file_extension": ".py",
   "mimetype": "text/x-python",
   "name": "python",
   "nbconvert_exporter": "python",
   "pygments_lexer": "ipython3",
   "version": "3.6.7"
  }
 },
 "nbformat": 4,
 "nbformat_minor": 2
}
